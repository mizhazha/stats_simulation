{
 "cells": [
  {
   "cell_type": "markdown",
   "metadata": {},
   "source": [
    "There are two sports team A and B. A match is played best 4 of 7 games (or 4/7 or 5/9). The probability that A wons a game is p1. Suppose the playing follows a markov chain process, P(A wins game k|A wins game k-1)=p11, P(A lost game k|A wins game k-1)=p01, how to simulate the probability that the 7th game is played? and how to construct the CI for that estimation. "
   ]
  },
  {
   "cell_type": "code",
   "execution_count": 77,
   "metadata": {
    "collapsed": true
   },
   "outputs": [],
   "source": [
    "import random\n",
    "import numpy as np\n",
    "import seaborn as sns\n",
    "import matplotlib.pyplot as plt\n",
    "%matplotlib inline"
   ]
  },
  {
   "cell_type": "code",
   "execution_count": 56,
   "metadata": {
    "collapsed": true
   },
   "outputs": [],
   "source": [
    "def bernoulli(p):\n",
    "    return 1 if random.random() < p else -1\n",
    "def sim(p1, p01, p11):\n",
    "    result = [bernoulli(p1)]\n",
    "    while result.count(1) < 4 and result.count(-1) < 4:\n",
    "        if result[-1] == 1:\n",
    "            result.append(bernoulli(p11))\n",
    "        else:\n",
    "            result.append(bernoulli(p01))\n",
    "    return result\n",
    "def pGameSeven(N, p1, p01, p11):\n",
    "    res = [0]*N\n",
    "    for i in range(N):\n",
    "        trial_res = sim(p1, p01, p11)\n",
    "        if len(trial_res)==7:\n",
    "            res[i] = 1\n",
    "    return res"
   ]
  },
  {
   "cell_type": "code",
   "execution_count": 62,
   "metadata": {},
   "outputs": [],
   "source": [
    "# get a point estimate\n",
    "total_runs = 10000\n",
    "res = pGameSeven(10000,0.5,0.4,0.55)\n",
    "prob_full_game = sum(res)*1.0/len(res)"
   ]
  },
  {
   "cell_type": "code",
   "execution_count": 63,
   "metadata": {},
   "outputs": [
    {
     "data": {
      "text/plain": [
       "0.2644"
      ]
     },
     "execution_count": 63,
     "metadata": {},
     "output_type": "execute_result"
    }
   ],
   "source": [
    "prob_full_game"
   ]
  },
  {
   "cell_type": "code",
   "execution_count": 73,
   "metadata": {},
   "outputs": [],
   "source": [
    "# use bootstrap to build CI\n",
    "sample_means = []\n",
    "for i in range(total_runs):\n",
    "    sample = np.random.choice(res, total_runs-1)\n",
    "    sample_mean = sum(sample)*1.0/(total_runs-1)\n",
    "    sample_means.append(sample_mean)"
   ]
  },
  {
   "cell_type": "code",
   "execution_count": 78,
   "metadata": {},
   "outputs": [
    {
     "data": {
      "text/plain": [
       "<matplotlib.axes._subplots.AxesSubplot at 0x116bd81d0>"
      ]
     },
     "execution_count": 78,
     "metadata": {},
     "output_type": "execute_result"
    },
    {
     "data": {
      "image/png": "[encoded data removed]",
      "text/plain": [
       "<matplotlib.figure.Figure at 0x116b4b9d0>"
      ]
     },
     "metadata": {},
     "output_type": "display_data"
    }
   ],
   "source": [
    "sns.distplot(sample_means)"
   ]
  },
  {
   "cell_type": "code",
   "execution_count": 84,
   "metadata": {},
   "outputs": [
    {
     "name": "stdout",
     "output_type": "stream",
     "text": [
      "(0.2557255725572557, 0.27302730273027304)\n"
     ]
    }
   ],
   "source": [
    "# 1. direct use quantile\n",
    "# For example, if we were interested in a confidence interval of 95%, \n",
    "# then alpha would be 0.95 and we would select the value at the 2.5% percentile as the lower bound \n",
    "# and the 97.5% percentile as the upper bound on the statistic of interest.\n",
    "alpha = 0.95\n",
    "ordered = sorted(sample_means)\n",
    "lower = np.percentile(ordered, (1-alpha)*100.0/2)\n",
    "upper = np.percentile(ordered, alpha*100+((1-alpha)*100.0/2))\n",
    "print(lower,upper)"
   ]
  },
  {
   "cell_type": "code",
   "execution_count": 87,
   "metadata": {},
   "outputs": [
    {
     "name": "stdout",
     "output_type": "stream",
     "text": [
      "(0.25572742560156447, 0.27310989813080888)\n"
     ]
    }
   ],
   "source": [
    "# 2. using std\n",
    "# according to central limit theorem, the sample mean should follow gaussian distribution. \n",
    "# and the 95% confidence CI for sample_mean is mean(t)+/-1.96*se (10000 sample sizes, treat as std known, using z*)\n",
    "# se here is the std of sample mean distribution, the std of a estimator\n",
    "se = np.std(sample_means) \n",
    "# or se = np.std(res)/np.sqrt(total_runs)\n",
    "mean_value = np.mean(sample_means)\n",
    "lower = mean_value - 1.96*se\n",
    "upper = mean_value + 1.96*se\n",
    "print(lower, upper)"
   ]
  }
 ],
 "metadata": {
  "kernelspec": {
   "display_name": "Python 2",
   "language": "python",
   "name": "python2"
  },
  "language_info": {
   "codemirror_mode": {
    "name": "ipython",
    "version": 2
   },
   "file_extension": ".py",
   "mimetype": "text/x-python",
   "name": "python",
   "nbconvert_exporter": "python",
   "pygments_lexer": "ipython2",
   "version": "2.7.13"
  }
 },
 "nbformat": 4,
 "nbformat_minor": 2
}
